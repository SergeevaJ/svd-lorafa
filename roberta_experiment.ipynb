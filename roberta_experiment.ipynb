{
 "cells": [
  {
   "cell_type": "code",
   "execution_count": 2,
   "metadata": {},
   "outputs": [],
   "source": [
    "import csv\n",
    "import time\n",
    "import json\n",
    "import warnings\n",
    "from functools import partial\n",
    "warnings.filterwarnings('always')\n",
    "\n",
    "import torch\n",
    "import numpy as np\n",
    "import pandas as pd\n",
    "torch.manual_seed(0)\n",
    "from torch import nn\n",
    "import matplotlib.pyplot as plt\n",
    "from tqdm.notebook import trange, tqdm\n",
    "from torch.utils.data import Dataset, DataLoader\n",
    "from transformers import RobertaTokenizer, RobertaModel, RobertaForSequenceClassification\n",
    "\n",
    "from lora import *\n",
    "from datasets import GLUEDatasetRoberta"
   ]
  },
  {
   "cell_type": "code",
   "execution_count": null,
   "metadata": {},
   "outputs": [],
   "source": [
    "RobertaForSequenceClassification.from_pretrained()"
   ]
  },
  {
   "cell_type": "markdown",
   "metadata": {},
   "source": [
    "We will follow LoRA-FA experiment setting, where in paper they state that they apply lora to all 4 linear layers in MultiHeadAttention (see section 2.2): 3 layers that produce $Q$, $K$ and $V$ and also final linear layer weights\n",
    "\n",
    "<center>\n",
    "<img src=\"imgs/mha.png\" width=300 height=400/>\n",
    "</center>"
   ]
  },
  {
   "cell_type": "code",
   "execution_count": 2,
   "metadata": {},
   "outputs": [],
   "source": [
    "def construct_lorafa_config(model, rank, init_method='svd'):\n",
    "    \"\"\"Each layer has a unique name within module hierarchy, so we can identify \n",
    "    them for lora parametrization\"\"\"\n",
    "    config = {}\n",
    "    for name, module in model.named_modules():\n",
    "        if isinstance(module, nn.Linear) and any([name.split('.')[-1] == n for n in ['dense', 'query', 'key', 'value',]]) and '.attention.' in name:\n",
    "            config[name] = {\n",
    "                nn.Linear: {\n",
    "                    \"weight\": partial(\n",
    "                        LoRAFAParametrization.from_linear,\n",
    "                        rank=rank, \n",
    "                        init_method=init_method, # set svd as initiazliation method\n",
    "                        original_weights=module.weight # pass weights for svd init\n",
    "                    ),\n",
    "                }\n",
    "            }\n",
    "    return config"
   ]
  },
  {
   "cell_type": "markdown",
   "metadata": {},
   "source": [
    "# Fine-tuning stage"
   ]
  },
  {
   "cell_type": "markdown",
   "metadata": {},
   "source": [
    "## MRPC"
   ]
  },
  {
   "cell_type": "markdown",
   "metadata": {},
   "source": [
    "Hyperparameters from LoRa-FA article\n",
    "\n",
    "<center>\n",
    "<img src=\"imgs/MRPC hyperparams.png\" width=1000/>\n",
    "</center>"
   ]
  },
  {
   "cell_type": "markdown",
   "metadata": {},
   "source": [
    "### Prepare model"
   ]
  },
  {
   "cell_type": "code",
   "execution_count": 3,
   "metadata": {},
   "outputs": [],
   "source": [
    "device = 'cuda' if torch.cuda.is_available() else 'cpu'"
   ]
  },
  {
   "cell_type": "code",
   "execution_count": 4,
   "metadata": {},
   "outputs": [
    {
     "name": "stderr",
     "output_type": "stream",
     "text": [
      "Some weights of RobertaForSequenceClassification were not initialized from the model checkpoint at roberta-base and are newly initialized: ['classifier.out_proj.bias', 'classifier.out_proj.weight', 'classifier.dense.bias', 'classifier.dense.weight']\n",
      "You should probably TRAIN this model on a down-stream task to be able to use it for predictions and inference.\n"
     ]
    },
    {
     "data": {
      "text/plain": [
       "tensor([[0.1352, 0.0986],\n",
       "        [0.1422, 0.1042],\n",
       "        [0.1397, 0.1045]], grad_fn=<AddmmBackward0>)"
      ]
     },
     "execution_count": 4,
     "metadata": {},
     "output_type": "execute_result"
    }
   ],
   "source": [
    "tokenizer = RobertaTokenizer.from_pretrained('roberta-base')\n",
    "model = RobertaForSequenceClassification.from_pretrained('roberta-base')\n",
    "\n",
    "# example\n",
    "text1 = [\"Simple text\", \"Cat\", \"House\"]\n",
    "text2 = [\"Hard text\", \"Dog\", \"home\"]\n",
    "\n",
    "encoded_pair = tokenizer(\n",
    "    text1,\n",
    "    text2,\n",
    "    padding='max_length',\n",
    "    truncation=True,\n",
    "    max_length=128,  # Maximum sequence length, adjust as needed\n",
    "    return_tensors='pt'\n",
    ")\n",
    "\n",
    "output = model(**encoded_pair)\n",
    "output.logits"
   ]
  },
  {
   "cell_type": "code",
   "execution_count": 5,
   "metadata": {},
   "outputs": [],
   "source": [
    "def freeze_nonlora(model):\n",
    "    for name, parameters in model.named_parameters():\n",
    "        if not name_is_lora(name) and not 'classifier' in name: # don't want to freeze last original layer too\n",
    "            parameters.requires_grad = False"
   ]
  },
  {
   "cell_type": "code",
   "execution_count": 6,
   "metadata": {},
   "outputs": [],
   "source": [
    "def get_hot_parameters(model):\n",
    "    for _, params in model.named_parameters():\n",
    "            if params.requires_grad:\n",
    "                 yield params"
   ]
  },
  {
   "cell_type": "code",
   "execution_count": 7,
   "metadata": {},
   "outputs": [],
   "source": [
    "rank = 2\n",
    "lora_roberta_config = construct_lorafa_config(model, rank=rank, init_method='kaiming') # kaiming, svd\n",
    "# list(lora_roberta_config.keys())\n",
    "add_lora_by_layer_names(model, lora_roberta_config)\n",
    "freeze_nonlora(model)\n",
    "\n",
    "model = model.to(device)\n",
    "\n",
    "parameters = [\n",
    "    {\"params\": list(get_hot_parameters(model))},\n",
    "]"
   ]
  },
  {
   "cell_type": "markdown",
   "metadata": {},
   "source": [
    "### Prepare data"
   ]
  },
  {
   "cell_type": "code",
   "execution_count": 8,
   "metadata": {},
   "outputs": [],
   "source": [
    "data_dir = 'data/MRPC'\n",
    "train_file = data_dir + '/msr_paraphrase_train.txt'\n",
    "test_file = data_dir + '/msr_paraphrase_test.txt'"
   ]
  },
  {
   "cell_type": "code",
   "execution_count": 10,
   "metadata": {},
   "outputs": [],
   "source": [
    "train_dataset = GLUEDatasetRoberta(train_file, tokenizer, benchmark='mrpc')\n",
    "test_dataset = GLUEDatasetRoberta(test_file, tokenizer, benchmark='mrpc')"
   ]
  },
  {
   "cell_type": "code",
   "execution_count": 11,
   "metadata": {},
   "outputs": [],
   "source": [
    "batch_size = 64\n",
    "train_loader = DataLoader(train_dataset, batch_size=batch_size, shuffle=True)\n",
    "test_loader = DataLoader(test_dataset, batch_size=batch_size,)"
   ]
  },
  {
   "cell_type": "markdown",
   "metadata": {},
   "source": [
    "### Train"
   ]
  },
  {
   "cell_type": "code",
   "execution_count": 12,
   "metadata": {},
   "outputs": [],
   "source": [
    "n_epoch = 30\n",
    "warmup_ratio = 0.06\n",
    "n_steps = len(train_loader) * n_epoch\n",
    "warmup_steps = warmup_ratio * n_steps\n",
    "\n",
    "def lr_lambda(current_step):\n",
    "    if current_step <= warmup_steps:\n",
    "        return (current_step + 1) / max(1, warmup_steps)\n",
    "    else:\n",
    "        return (n_steps - current_step) / (max(1, n_steps - warmup_steps))\n",
    "\n",
    "optimizer = torch.optim.AdamW(parameters, lr=4e-4)\n",
    "scheduler = torch.optim.lr_scheduler.LambdaLR(optimizer, lr_lambda=lr_lambda)\n",
    "criteria = nn.CrossEntropyLoss()"
   ]
  },
  {
   "cell_type": "code",
   "execution_count": 13,
   "metadata": {},
   "outputs": [
    {
     "data": {
      "application/vnd.jupyter.widget-view+json": {
       "model_id": "d095ff0a0db34c4ca9c3717c3a143c04",
       "version_major": 2,
       "version_minor": 0
      },
      "text/plain": [
       "Training:   0%|          | 0/7650 [00:00<?, ?it/s]"
      ]
     },
     "metadata": {},
     "output_type": "display_data"
    },
    {
     "data": {
      "application/vnd.jupyter.widget-view+json": {
       "model_id": "5b4972cda3a04e51ab4ba8509d272a5e",
       "version_major": 2,
       "version_minor": 0
      },
      "text/plain": [
       "Validating:   0%|          | 0/108 [00:00<?, ?it/s]"
      ]
     },
     "metadata": {},
     "output_type": "display_data"
    }
   ],
   "source": [
    "pbar = tqdm(total=n_steps, desc='Training', position=0)\n",
    "pbar_test = tqdm(total=len(test_loader), desc='Validating', position=1)\n",
    "\n",
    "training_history= {'train_loss': [],\n",
    "                   'val_loss': [],\n",
    "                   'val_acc': [],}\n",
    "\n",
    "for epoch in range(30):\n",
    "\n",
    "    step_loss = []\n",
    "    model.train()\n",
    "    for input_ids, attention_mask, label in train_loader: # training\n",
    "\n",
    "        output = model(input_ids.to(device), attention_mask.to(device))\n",
    "        loss = criteria(output.logits, label.to(device))\n",
    "        \n",
    "        optimizer.zero_grad()\n",
    "        loss.backward()\n",
    "        optimizer.step()\n",
    "        scheduler.step()\n",
    "\n",
    "        step_loss.append(loss.item())\n",
    "        \n",
    "        pbar.update()\n",
    "    train_loss = np.mean(step_loss)\n",
    "\n",
    "# >>>>>>>>>>>>>>>>>>>>>>>>>>>>>>> VALIDATION AND PROGRESS BARS <<<<<<<<<<<<<<<<<<<<<<<<<<<<<<<<< #\n",
    "\n",
    "    if (epoch + 1) % 5 == 0 or epoch > 0.6 * n_epoch: # validation\n",
    "        if epoch != 4:\n",
    "            pbar_test.update(-pbar_test.total) # for refreshing pbars\n",
    "        step_loss = []\n",
    "        total = 0\n",
    "        correct = 0\n",
    "        model.eval()\n",
    "        for input_ids, attention_mask, label in test_loader:\n",
    "            output = model(input_ids.to(device), attention_mask.to(device))\n",
    "            loss = criteria(output.logits, label.to(device))\n",
    "            step_loss.append(loss.item())\n",
    "\n",
    "            _, preds = torch.max(output.logits, 1)\n",
    "            total += label.size(0)\n",
    "            correct += (preds.detach().cpu() == label).sum().item()\n",
    "            pbar_test.update()\n",
    "\n",
    "        val_loss = np.mean(step_loss)\n",
    "        val_acc = correct / total\n",
    "        training_history['val_loss'].append(val_loss)\n",
    "        training_history['val_acc'].append(val_acc)\n",
    "        pbar_test.set_postfix({'val_loss': val_loss,\n",
    "                               'val_acc': val_acc,})\n",
    "    \n",
    "    pbar.set_postfix({'train_loss': train_loss})\n",
    "    training_history['train_loss'].append(train_loss)\n",
    "\n",
    "pbar.close()\n",
    "pbar_test.close()"
   ]
  },
  {
   "cell_type": "code",
   "execution_count": null,
   "metadata": {},
   "outputs": [],
   "source": [
    "with open('history.kaiming.json', 'w') as f:\n",
    "    json.dump(training_history, f)"
   ]
  }
 ],
 "metadata": {
  "kernelspec": {
   "display_name": "base",
   "language": "python",
   "name": "python3"
  },
  "language_info": {
   "codemirror_mode": {
    "name": "ipython",
    "version": 3
   },
   "file_extension": ".py",
   "mimetype": "text/x-python",
   "name": "python",
   "nbconvert_exporter": "python",
   "pygments_lexer": "ipython3",
   "version": "3.11.5"
  }
 },
 "nbformat": 4,
 "nbformat_minor": 2
}
